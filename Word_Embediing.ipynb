{
  "nbformat": 4,
  "nbformat_minor": 0,
  "metadata": {
    "colab": {
      "name": "Word Embediing ",
      "provenance": []
    },
    "kernelspec": {
      "name": "python3",
      "display_name": "Python 3"
    },
    "language_info": {
      "name": "python"
    }
  },
  "cells": [
    {
      "cell_type": "code",
      "execution_count": 2,
      "metadata": {
        "colab": {
          "base_uri": "https://localhost:8080/"
        },
        "id": "rHofSehbw57a",
        "outputId": "8da62780-0ffe-4acb-c500-52d30979737a"
      },
      "outputs": [
        {
          "output_type": "stream",
          "name": "stdout",
          "text": [
            "Looking in indexes: https://pypi.org/simple, https://us-python.pkg.dev/colab-wheels/public/simple/\n",
            "Requirement already satisfied: tensorflow in /usr/local/lib/python3.7/dist-packages (2.8.2+zzzcolab20220719082949)\n",
            "Requirement already satisfied: tensorflow-io-gcs-filesystem>=0.23.1 in /usr/local/lib/python3.7/dist-packages (from tensorflow) (0.26.0)\n",
            "Requirement already satisfied: keras<2.9,>=2.8.0rc0 in /usr/local/lib/python3.7/dist-packages (from tensorflow) (2.8.0)\n",
            "Requirement already satisfied: numpy>=1.20 in /usr/local/lib/python3.7/dist-packages (from tensorflow) (1.21.6)\n",
            "Requirement already satisfied: libclang>=9.0.1 in /usr/local/lib/python3.7/dist-packages (from tensorflow) (14.0.6)\n",
            "Requirement already satisfied: protobuf<3.20,>=3.9.2 in /usr/local/lib/python3.7/dist-packages (from tensorflow) (3.17.3)\n",
            "Requirement already satisfied: h5py>=2.9.0 in /usr/local/lib/python3.7/dist-packages (from tensorflow) (3.1.0)\n",
            "Requirement already satisfied: absl-py>=0.4.0 in /usr/local/lib/python3.7/dist-packages (from tensorflow) (1.2.0)\n",
            "Requirement already satisfied: wrapt>=1.11.0 in /usr/local/lib/python3.7/dist-packages (from tensorflow) (1.14.1)\n",
            "Requirement already satisfied: termcolor>=1.1.0 in /usr/local/lib/python3.7/dist-packages (from tensorflow) (1.1.0)\n",
            "Requirement already satisfied: keras-preprocessing>=1.1.1 in /usr/local/lib/python3.7/dist-packages (from tensorflow) (1.1.2)\n",
            "Requirement already satisfied: astunparse>=1.6.0 in /usr/local/lib/python3.7/dist-packages (from tensorflow) (1.6.3)\n",
            "Requirement already satisfied: typing-extensions>=3.6.6 in /usr/local/lib/python3.7/dist-packages (from tensorflow) (4.1.1)\n",
            "Requirement already satisfied: grpcio<2.0,>=1.24.3 in /usr/local/lib/python3.7/dist-packages (from tensorflow) (1.47.0)\n",
            "Requirement already satisfied: gast>=0.2.1 in /usr/local/lib/python3.7/dist-packages (from tensorflow) (0.5.3)\n",
            "Requirement already satisfied: flatbuffers>=1.12 in /usr/local/lib/python3.7/dist-packages (from tensorflow) (2.0)\n",
            "Requirement already satisfied: tensorflow-estimator<2.9,>=2.8 in /usr/local/lib/python3.7/dist-packages (from tensorflow) (2.8.0)\n",
            "Requirement already satisfied: opt-einsum>=2.3.2 in /usr/local/lib/python3.7/dist-packages (from tensorflow) (3.3.0)\n",
            "Requirement already satisfied: google-pasta>=0.1.1 in /usr/local/lib/python3.7/dist-packages (from tensorflow) (0.2.0)\n",
            "Requirement already satisfied: tensorboard<2.9,>=2.8 in /usr/local/lib/python3.7/dist-packages (from tensorflow) (2.8.0)\n",
            "Requirement already satisfied: setuptools in /usr/local/lib/python3.7/dist-packages (from tensorflow) (57.4.0)\n",
            "Requirement already satisfied: six>=1.12.0 in /usr/local/lib/python3.7/dist-packages (from tensorflow) (1.15.0)\n",
            "Requirement already satisfied: wheel<1.0,>=0.23.0 in /usr/local/lib/python3.7/dist-packages (from astunparse>=1.6.0->tensorflow) (0.37.1)\n",
            "Requirement already satisfied: cached-property in /usr/local/lib/python3.7/dist-packages (from h5py>=2.9.0->tensorflow) (1.5.2)\n",
            "Requirement already satisfied: tensorboard-plugin-wit>=1.6.0 in /usr/local/lib/python3.7/dist-packages (from tensorboard<2.9,>=2.8->tensorflow) (1.8.1)\n",
            "Requirement already satisfied: requests<3,>=2.21.0 in /usr/local/lib/python3.7/dist-packages (from tensorboard<2.9,>=2.8->tensorflow) (2.23.0)\n",
            "Requirement already satisfied: werkzeug>=0.11.15 in /usr/local/lib/python3.7/dist-packages (from tensorboard<2.9,>=2.8->tensorflow) (1.0.1)\n",
            "Requirement already satisfied: google-auth<3,>=1.6.3 in /usr/local/lib/python3.7/dist-packages (from tensorboard<2.9,>=2.8->tensorflow) (1.35.0)\n",
            "Requirement already satisfied: google-auth-oauthlib<0.5,>=0.4.1 in /usr/local/lib/python3.7/dist-packages (from tensorboard<2.9,>=2.8->tensorflow) (0.4.6)\n",
            "Requirement already satisfied: tensorboard-data-server<0.7.0,>=0.6.0 in /usr/local/lib/python3.7/dist-packages (from tensorboard<2.9,>=2.8->tensorflow) (0.6.1)\n",
            "Requirement already satisfied: markdown>=2.6.8 in /usr/local/lib/python3.7/dist-packages (from tensorboard<2.9,>=2.8->tensorflow) (3.4.1)\n",
            "Requirement already satisfied: rsa<5,>=3.1.4 in /usr/local/lib/python3.7/dist-packages (from google-auth<3,>=1.6.3->tensorboard<2.9,>=2.8->tensorflow) (4.9)\n",
            "Requirement already satisfied: cachetools<5.0,>=2.0.0 in /usr/local/lib/python3.7/dist-packages (from google-auth<3,>=1.6.3->tensorboard<2.9,>=2.8->tensorflow) (4.2.4)\n",
            "Requirement already satisfied: pyasn1-modules>=0.2.1 in /usr/local/lib/python3.7/dist-packages (from google-auth<3,>=1.6.3->tensorboard<2.9,>=2.8->tensorflow) (0.2.8)\n",
            "Requirement already satisfied: requests-oauthlib>=0.7.0 in /usr/local/lib/python3.7/dist-packages (from google-auth-oauthlib<0.5,>=0.4.1->tensorboard<2.9,>=2.8->tensorflow) (1.3.1)\n",
            "Requirement already satisfied: importlib-metadata>=4.4 in /usr/local/lib/python3.7/dist-packages (from markdown>=2.6.8->tensorboard<2.9,>=2.8->tensorflow) (4.12.0)\n",
            "Requirement already satisfied: zipp>=0.5 in /usr/local/lib/python3.7/dist-packages (from importlib-metadata>=4.4->markdown>=2.6.8->tensorboard<2.9,>=2.8->tensorflow) (3.8.1)\n",
            "Requirement already satisfied: pyasn1<0.5.0,>=0.4.6 in /usr/local/lib/python3.7/dist-packages (from pyasn1-modules>=0.2.1->google-auth<3,>=1.6.3->tensorboard<2.9,>=2.8->tensorflow) (0.4.8)\n",
            "Requirement already satisfied: certifi>=2017.4.17 in /usr/local/lib/python3.7/dist-packages (from requests<3,>=2.21.0->tensorboard<2.9,>=2.8->tensorflow) (2022.6.15)\n",
            "Requirement already satisfied: urllib3!=1.25.0,!=1.25.1,<1.26,>=1.21.1 in /usr/local/lib/python3.7/dist-packages (from requests<3,>=2.21.0->tensorboard<2.9,>=2.8->tensorflow) (1.24.3)\n",
            "Requirement already satisfied: idna<3,>=2.5 in /usr/local/lib/python3.7/dist-packages (from requests<3,>=2.21.0->tensorboard<2.9,>=2.8->tensorflow) (2.10)\n",
            "Requirement already satisfied: chardet<4,>=3.0.2 in /usr/local/lib/python3.7/dist-packages (from requests<3,>=2.21.0->tensorboard<2.9,>=2.8->tensorflow) (3.0.4)\n",
            "Requirement already satisfied: oauthlib>=3.0.0 in /usr/local/lib/python3.7/dist-packages (from requests-oauthlib>=0.7.0->google-auth-oauthlib<0.5,>=0.4.1->tensorboard<2.9,>=2.8->tensorflow) (3.2.0)\n"
          ]
        }
      ],
      "source": [
        "pip install tensorflow"
      ]
    },
    {
      "cell_type": "code",
      "source": [
        "from tensorflow.keras.preprocessing.text import one_hot"
      ],
      "metadata": {
        "id": "2neQEOIKxAwv"
      },
      "execution_count": 3,
      "outputs": []
    },
    {
      "cell_type": "code",
      "source": [
        "#sentences\n",
        "sent = ['i am a rajesh',\n",
        "        'my name is rajesh',\n",
        "        'i am a datascientist',\n",
        "        'iam a good datascientist',\n",
        "        'a cup of tea',\n",
        "        'similiar words of word']"
      ],
      "metadata": {
        "id": "h44bwoIhxZji"
      },
      "execution_count": 14,
      "outputs": []
    },
    {
      "cell_type": "code",
      "source": [
        "sent"
      ],
      "metadata": {
        "colab": {
          "base_uri": "https://localhost:8080/"
        },
        "id": "FqB00GFvx5fN",
        "outputId": "1ca87f8a-8d1a-453e-8812-19418f646b0b"
      },
      "execution_count": 15,
      "outputs": [
        {
          "output_type": "execute_result",
          "data": {
            "text/plain": [
              "['i am a rajesh',\n",
              " 'my name is rajesh',\n",
              " 'i am a datascientist',\n",
              " 'iam a good datascientist',\n",
              " 'a cup of tea',\n",
              " 'similiar words of word']"
            ]
          },
          "metadata": {},
          "execution_count": 15
        }
      ]
    },
    {
      "cell_type": "code",
      "source": [
        "#vocab size\n",
        "voc_size = 10000"
      ],
      "metadata": {
        "id": "j0hQLO5DzANS"
      },
      "execution_count": 6,
      "outputs": []
    },
    {
      "cell_type": "markdown",
      "source": [
        "# One Hot Encoding"
      ],
      "metadata": {
        "id": "7K3WJF-OzXGq"
      }
    },
    {
      "cell_type": "code",
      "source": [
        "onehot_rep= [one_hot(words,voc_size)for words in sent]\n",
        "print(onehot_rep)"
      ],
      "metadata": {
        "colab": {
          "base_uri": "https://localhost:8080/"
        },
        "id": "a5xr4WLezKAg",
        "outputId": "cb584b18-8f3d-4ff5-c7f0-920c71021c0a"
      },
      "execution_count": 8,
      "outputs": [
        {
          "output_type": "stream",
          "name": "stdout",
          "text": [
            "[[3999, 1645], [7592, 2581, 5637, 1645], [3999, 7018, 1734], [3999, 7018, 5506, 1734], [5550, 8531, 4967], [4106, 5455, 8531, 5660]]\n"
          ]
        }
      ]
    },
    {
      "cell_type": "markdown",
      "source": [
        "# Word Embedding Represntation"
      ],
      "metadata": {
        "id": "v2Hrliz6zzJP"
      }
    },
    {
      "cell_type": "code",
      "source": [
        "import tensorflow"
      ],
      "metadata": {
        "id": "fRL-5js30TSE"
      },
      "execution_count": 10,
      "outputs": []
    },
    {
      "cell_type": "code",
      "source": [
        "from tensorflow.keras.layers import Embedding\n",
        "from tensorflow.keras.preprocessing.sequence import pad_sequences\n",
        "from tensorflow.keras.models import Sequential"
      ],
      "metadata": {
        "id": "JGJfpsxPzveE"
      },
      "execution_count": 12,
      "outputs": []
    },
    {
      "cell_type": "code",
      "source": [
        "import numpy as np"
      ],
      "metadata": {
        "id": "_578NXw-0QJe"
      },
      "execution_count": 13,
      "outputs": []
    },
    {
      "cell_type": "code",
      "source": [
        "sent_length = 8\n",
        "embedded_docs = pad_sequences(onehot_rep, padding = 'pre',maxlen =sent_length)\n",
        "print(embedded_docs)"
      ],
      "metadata": {
        "colab": {
          "base_uri": "https://localhost:8080/"
        },
        "id": "RvkzonQT0cq2",
        "outputId": "27829d88-230d-478b-c414-53041ecb8873"
      },
      "execution_count": 16,
      "outputs": [
        {
          "output_type": "stream",
          "name": "stdout",
          "text": [
            "[[   0    0    0    0    0    0 3999 1645]\n",
            " [   0    0    0    0 7592 2581 5637 1645]\n",
            " [   0    0    0    0    0 3999 7018 1734]\n",
            " [   0    0    0    0 3999 7018 5506 1734]\n",
            " [   0    0    0    0    0 5550 8531 4967]\n",
            " [   0    0    0    0 4106 5455 8531 5660]]\n"
          ]
        }
      ]
    },
    {
      "cell_type": "code",
      "source": [
        "dim = 10"
      ],
      "metadata": {
        "id": "Ddb8kqc11Bww"
      },
      "execution_count": 17,
      "outputs": []
    },
    {
      "cell_type": "code",
      "source": [
        "model = Sequential()\n",
        "model.add(Embedding(voc_size,10,input_length=sent_length))\n",
        "model.compile('adam','mse')"
      ],
      "metadata": {
        "id": "-T9O385D1jMs"
      },
      "execution_count": 18,
      "outputs": []
    },
    {
      "cell_type": "code",
      "source": [
        "model.summary()"
      ],
      "metadata": {
        "colab": {
          "base_uri": "https://localhost:8080/"
        },
        "id": "_1-K09mL10PV",
        "outputId": "048a73e2-e3d7-42ed-f960-d649bf29e585"
      },
      "execution_count": 19,
      "outputs": [
        {
          "output_type": "stream",
          "name": "stdout",
          "text": [
            "Model: \"sequential\"\n",
            "_________________________________________________________________\n",
            " Layer (type)                Output Shape              Param #   \n",
            "=================================================================\n",
            " embedding (Embedding)       (None, 8, 10)             100000    \n",
            "                                                                 \n",
            "=================================================================\n",
            "Total params: 100,000\n",
            "Trainable params: 100,000\n",
            "Non-trainable params: 0\n",
            "_________________________________________________________________\n"
          ]
        }
      ]
    },
    {
      "cell_type": "code",
      "source": [
        "print(model.predict(embedded_docs))"
      ],
      "metadata": {
        "colab": {
          "base_uri": "https://localhost:8080/"
        },
        "id": "C6wXDtAu13TB",
        "outputId": "008fdada-6037-445d-afc9-eb3fb2b6db14"
      },
      "execution_count": 21,
      "outputs": [
        {
          "output_type": "stream",
          "name": "stdout",
          "text": [
            "[[[-0.04685029  0.03374593 -0.03022604  0.02569017 -0.02046477\n",
            "   -0.00512093  0.00261103  0.01615263  0.03050287 -0.00194774]\n",
            "  [-0.04685029  0.03374593 -0.03022604  0.02569017 -0.02046477\n",
            "   -0.00512093  0.00261103  0.01615263  0.03050287 -0.00194774]\n",
            "  [-0.04685029  0.03374593 -0.03022604  0.02569017 -0.02046477\n",
            "   -0.00512093  0.00261103  0.01615263  0.03050287 -0.00194774]\n",
            "  [-0.04685029  0.03374593 -0.03022604  0.02569017 -0.02046477\n",
            "   -0.00512093  0.00261103  0.01615263  0.03050287 -0.00194774]\n",
            "  [-0.04685029  0.03374593 -0.03022604  0.02569017 -0.02046477\n",
            "   -0.00512093  0.00261103  0.01615263  0.03050287 -0.00194774]\n",
            "  [-0.04685029  0.03374593 -0.03022604  0.02569017 -0.02046477\n",
            "   -0.00512093  0.00261103  0.01615263  0.03050287 -0.00194774]\n",
            "  [ 0.0184367   0.02601366  0.01529379  0.01152904  0.02634238\n",
            "    0.01641648 -0.01224066 -0.04297024 -0.03545346 -0.01068182]\n",
            "  [-0.03086606 -0.03040272 -0.04961717  0.00231234 -0.00151319\n",
            "    0.0239122   0.02126471  0.0186926   0.00246117 -0.04882769]]\n",
            "\n",
            " [[-0.04685029  0.03374593 -0.03022604  0.02569017 -0.02046477\n",
            "   -0.00512093  0.00261103  0.01615263  0.03050287 -0.00194774]\n",
            "  [-0.04685029  0.03374593 -0.03022604  0.02569017 -0.02046477\n",
            "   -0.00512093  0.00261103  0.01615263  0.03050287 -0.00194774]\n",
            "  [-0.04685029  0.03374593 -0.03022604  0.02569017 -0.02046477\n",
            "   -0.00512093  0.00261103  0.01615263  0.03050287 -0.00194774]\n",
            "  [-0.04685029  0.03374593 -0.03022604  0.02569017 -0.02046477\n",
            "   -0.00512093  0.00261103  0.01615263  0.03050287 -0.00194774]\n",
            "  [-0.03783437 -0.03289632 -0.03779816 -0.0075823   0.02642867\n",
            "   -0.04870378  0.02621425 -0.02563657  0.04892627  0.02462691]\n",
            "  [-0.02931368 -0.04973686  0.04402043  0.03890901  0.01892234\n",
            "    0.02672911 -0.02892743  0.0242008  -0.00378006 -0.04483836]\n",
            "  [ 0.0256821   0.01906369 -0.01475174  0.04462076  0.01528752\n",
            "    0.03227911 -0.01590041 -0.01858034  0.04897311  0.01881247]\n",
            "  [-0.03086606 -0.03040272 -0.04961717  0.00231234 -0.00151319\n",
            "    0.0239122   0.02126471  0.0186926   0.00246117 -0.04882769]]\n",
            "\n",
            " [[-0.04685029  0.03374593 -0.03022604  0.02569017 -0.02046477\n",
            "   -0.00512093  0.00261103  0.01615263  0.03050287 -0.00194774]\n",
            "  [-0.04685029  0.03374593 -0.03022604  0.02569017 -0.02046477\n",
            "   -0.00512093  0.00261103  0.01615263  0.03050287 -0.00194774]\n",
            "  [-0.04685029  0.03374593 -0.03022604  0.02569017 -0.02046477\n",
            "   -0.00512093  0.00261103  0.01615263  0.03050287 -0.00194774]\n",
            "  [-0.04685029  0.03374593 -0.03022604  0.02569017 -0.02046477\n",
            "   -0.00512093  0.00261103  0.01615263  0.03050287 -0.00194774]\n",
            "  [-0.04685029  0.03374593 -0.03022604  0.02569017 -0.02046477\n",
            "   -0.00512093  0.00261103  0.01615263  0.03050287 -0.00194774]\n",
            "  [ 0.0184367   0.02601366  0.01529379  0.01152904  0.02634238\n",
            "    0.01641648 -0.01224066 -0.04297024 -0.03545346 -0.01068182]\n",
            "  [ 0.00954237  0.00405895  0.03576106 -0.04063787  0.0052466\n",
            "    0.02993372  0.03395915 -0.00152905  0.03537164 -0.01236112]\n",
            "  [-0.02795388  0.04686543 -0.00029396 -0.03494801  0.00997309\n",
            "   -0.04888073 -0.03739492 -0.02165543 -0.01461826 -0.01488227]]\n",
            "\n",
            " [[-0.04685029  0.03374593 -0.03022604  0.02569017 -0.02046477\n",
            "   -0.00512093  0.00261103  0.01615263  0.03050287 -0.00194774]\n",
            "  [-0.04685029  0.03374593 -0.03022604  0.02569017 -0.02046477\n",
            "   -0.00512093  0.00261103  0.01615263  0.03050287 -0.00194774]\n",
            "  [-0.04685029  0.03374593 -0.03022604  0.02569017 -0.02046477\n",
            "   -0.00512093  0.00261103  0.01615263  0.03050287 -0.00194774]\n",
            "  [-0.04685029  0.03374593 -0.03022604  0.02569017 -0.02046477\n",
            "   -0.00512093  0.00261103  0.01615263  0.03050287 -0.00194774]\n",
            "  [ 0.0184367   0.02601366  0.01529379  0.01152904  0.02634238\n",
            "    0.01641648 -0.01224066 -0.04297024 -0.03545346 -0.01068182]\n",
            "  [ 0.00954237  0.00405895  0.03576106 -0.04063787  0.0052466\n",
            "    0.02993372  0.03395915 -0.00152905  0.03537164 -0.01236112]\n",
            "  [ 0.03038785  0.02762299  0.0214105   0.03089401 -0.0354221\n",
            "   -0.0458022  -0.00145265 -0.01241143 -0.0466817  -0.03159715]\n",
            "  [-0.02795388  0.04686543 -0.00029396 -0.03494801  0.00997309\n",
            "   -0.04888073 -0.03739492 -0.02165543 -0.01461826 -0.01488227]]\n",
            "\n",
            " [[-0.04685029  0.03374593 -0.03022604  0.02569017 -0.02046477\n",
            "   -0.00512093  0.00261103  0.01615263  0.03050287 -0.00194774]\n",
            "  [-0.04685029  0.03374593 -0.03022604  0.02569017 -0.02046477\n",
            "   -0.00512093  0.00261103  0.01615263  0.03050287 -0.00194774]\n",
            "  [-0.04685029  0.03374593 -0.03022604  0.02569017 -0.02046477\n",
            "   -0.00512093  0.00261103  0.01615263  0.03050287 -0.00194774]\n",
            "  [-0.04685029  0.03374593 -0.03022604  0.02569017 -0.02046477\n",
            "   -0.00512093  0.00261103  0.01615263  0.03050287 -0.00194774]\n",
            "  [-0.04685029  0.03374593 -0.03022604  0.02569017 -0.02046477\n",
            "   -0.00512093  0.00261103  0.01615263  0.03050287 -0.00194774]\n",
            "  [-0.03392651 -0.00444807  0.0053062   0.04680317 -0.03648609\n",
            "    0.03527352  0.01741392 -0.02079712 -0.02721902 -0.03655819]\n",
            "  [-0.03325933  0.03092157 -0.02900735 -0.03916795  0.00245247\n",
            "   -0.03512986  0.03574036  0.01723056 -0.04958504 -0.0263401 ]\n",
            "  [-0.02280142 -0.02428358  0.02835018 -0.03775619 -0.01719794\n",
            "    0.04373405  0.00014739 -0.01879334  0.01529085 -0.04758392]]\n",
            "\n",
            " [[-0.04685029  0.03374593 -0.03022604  0.02569017 -0.02046477\n",
            "   -0.00512093  0.00261103  0.01615263  0.03050287 -0.00194774]\n",
            "  [-0.04685029  0.03374593 -0.03022604  0.02569017 -0.02046477\n",
            "   -0.00512093  0.00261103  0.01615263  0.03050287 -0.00194774]\n",
            "  [-0.04685029  0.03374593 -0.03022604  0.02569017 -0.02046477\n",
            "   -0.00512093  0.00261103  0.01615263  0.03050287 -0.00194774]\n",
            "  [-0.04685029  0.03374593 -0.03022604  0.02569017 -0.02046477\n",
            "   -0.00512093  0.00261103  0.01615263  0.03050287 -0.00194774]\n",
            "  [-0.04204481 -0.0375173   0.04473755  0.0292306  -0.03034841\n",
            "   -0.03605847 -0.0323218  -0.03980347 -0.0161839   0.02485553]\n",
            "  [-0.01626505 -0.02213744  0.02262959 -0.01858606  0.00468606\n",
            "   -0.0402049   0.02340645  0.01875148 -0.01492611 -0.04090498]\n",
            "  [-0.03325933  0.03092157 -0.02900735 -0.03916795  0.00245247\n",
            "   -0.03512986  0.03574036  0.01723056 -0.04958504 -0.0263401 ]\n",
            "  [-0.00600277 -0.03684913 -0.01084316 -0.03082516  0.0122504\n",
            "    0.03311917  0.03979243 -0.00384489 -0.01419946 -0.01013808]]]\n"
          ]
        }
      ]
    },
    {
      "cell_type": "code",
      "source": [
        "embedded_docs[0]"
      ],
      "metadata": {
        "colab": {
          "base_uri": "https://localhost:8080/"
        },
        "id": "Yjn0CkY71_tp",
        "outputId": "b8987319-bcee-4773-b7dd-77825a623e71"
      },
      "execution_count": 22,
      "outputs": [
        {
          "output_type": "execute_result",
          "data": {
            "text/plain": [
              "array([   0,    0,    0,    0,    0,    0, 3999, 1645], dtype=int32)"
            ]
          },
          "metadata": {},
          "execution_count": 22
        }
      ]
    },
    {
      "cell_type": "code",
      "source": [
        "print9=(model.predict(embedded_docs)[0])"
      ],
      "metadata": {
        "id": "DWG8eEi22GyW"
      },
      "execution_count": 23,
      "outputs": []
    },
    {
      "cell_type": "code",
      "source": [
        ""
      ],
      "metadata": {
        "id": "o21BRkIV2U_X"
      },
      "execution_count": null,
      "outputs": []
    }
  ]
}